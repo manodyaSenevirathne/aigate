{
  "nbformat": 4,
  "nbformat_minor": 0,
  "metadata": {
    "colab": {
      "provenance": [],
      "gpuType": "T4"
    },
    "kernelspec": {
      "name": "python3",
      "display_name": "Python 3"
    },
    "language_info": {
      "name": "python"
    },
    "accelerator": "GPU"
  },
  "cells": [
    {
      "cell_type": "code",
      "execution_count": 57,
      "metadata": {
        "id": "4cho_9ixRAzx"
      },
      "outputs": [],
      "source": [
        "import numpy as np\n",
        "import pandas as pd\n",
        "import tensorflow as tf\n",
        "from tensorflow import keras\n",
        "from tensorflow.keras import layers\n",
        "from sklearn.preprocessing import StandardScaler, LabelEncoder\n",
        "from sklearn.model_selection import train_test_split\n",
        "from sklearn.metrics import classification_report, confusion_matrix\n",
        "import matplotlib.pyplot as plt\n",
        "import seaborn as sns\n",
        "import joblib"
      ]
    },
    {
      "cell_type": "code",
      "source": [
        "# Set random seeds for reproducibility\n",
        "np.random.seed(11)\n",
        "tf.random.set_seed(11)"
      ],
      "metadata": {
        "id": "fWS38tFYesZT"
      },
      "execution_count": 58,
      "outputs": []
    },
    {
      "cell_type": "code",
      "source": [
        "# Load KDD99 dataset\n",
        "# Download from: http://kdd.ics.uci.edu/databases/kddcup99/kddcup99.html\n",
        "print(\"Loading KDD99 dataset...\")\n",
        "\n",
        "# Column names for KDD99 dataset\n",
        "column_names = [\n",
        "    'duration', 'protocol_type', 'service', 'flag', 'src_bytes', 'dst_bytes',\n",
        "    'land', 'wrong_fragment', 'urgent', 'hot', 'num_failed_logins', 'logged_in',\n",
        "    'num_compromised', 'root_shell', 'su_attempted', 'num_root', 'num_file_creations',\n",
        "    'num_shells', 'num_access_files', 'num_outbound_cmds', 'is_host_login',\n",
        "    'is_guest_login', 'count', 'srv_count', 'serror_rate', 'srv_serror_rate',\n",
        "    'rerror_rate', 'srv_rerror_rate', 'same_srv_rate', 'diff_srv_rate',\n",
        "    'srv_diff_host_rate', 'dst_host_count', 'dst_host_srv_count',\n",
        "    'dst_host_same_srv_rate', 'dst_host_diff_srv_rate', 'dst_host_same_src_port_rate',\n",
        "    'dst_host_srv_diff_host_rate', 'dst_host_serror_rate', 'dst_host_srv_serror_rate',\n",
        "    'dst_host_rerror_rate', 'dst_host_srv_rerror_rate', 'label'\n",
        "]\n",
        "\n",
        "# Load dataset (replace with your dataset path)\n",
        "try:\n",
        "    df = pd.read_csv('/content/drive/MyDrive/kddcup99_csv.csv', names=column_names, header=0)\n",
        "    print(f\"Dataset loaded successfully. Shape: {df.shape}\")\n",
        "except FileNotFoundError:\n",
        "    print(\"Dataset file not found. Please download KDD99 dataset.\")\n",
        "    # For demonstration, create sample data structure\n",
        "    df = pd.DataFrame(columns=column_names)\n"
      ],
      "metadata": {
        "colab": {
          "base_uri": "https://localhost:8080/"
        },
        "id": "yEk63Xuwh8A_",
        "outputId": "135a5d6e-59fe-4d5d-ee3a-514761319af3"
      },
      "execution_count": 59,
      "outputs": [
        {
          "output_type": "stream",
          "name": "stdout",
          "text": [
            "Loading KDD99 dataset...\n",
            "Dataset loaded successfully. Shape: (494020, 42)\n"
          ]
        }
      ]
    },
    {
      "cell_type": "code",
      "source": [
        "df['label'].unique()"
      ],
      "metadata": {
        "colab": {
          "base_uri": "https://localhost:8080/"
        },
        "id": "QlJi-q0iMv90",
        "outputId": "414e0260-937e-4d5e-9827-55570b32d26c"
      },
      "execution_count": 60,
      "outputs": [
        {
          "output_type": "execute_result",
          "data": {
            "text/plain": [
              "array(['normal', 'buffer_overflow', 'loadmodule', 'perl', 'neptune',\n",
              "       'smurf', 'guess_passwd', 'pod', 'teardrop', 'portsweep', 'ipsweep',\n",
              "       'land', 'ftp_write', 'back', 'imap', 'satan', 'phf', 'nmap',\n",
              "       'multihop', 'warezmaster', 'warezclient', 'spy', 'rootkit'],\n",
              "      dtype=object)"
            ]
          },
          "metadata": {},
          "execution_count": 60
        }
      ]
    },
    {
      "cell_type": "code",
      "source": [
        "# Select relevant features for API gateway monitoring\n",
        "# These features are most relevant for network traffic analysis in API context\n",
        "relevant_features = [\n",
        "    'duration',           # Connection duration\n",
        "    'src_bytes',         # Bytes sent from source\n",
        "    'dst_bytes',         # Bytes sent to destination\n",
        "    'protocol_type'\n",
        "    # 'count',             # Number of connections to same host\n",
        "    # 'srv_count',         # Number of connections to same service\n",
        "\n",
        "]\n",
        "\n",
        "print(f\"Selected {len(relevant_features)} relevant features for API gateway monitoring\")\n"
      ],
      "metadata": {
        "colab": {
          "base_uri": "https://localhost:8080/"
        },
        "id": "GbZpoc1sJm4L",
        "outputId": "144a1c01-95d7-48b0-e8d5-538b05829393"
      },
      "execution_count": 61,
      "outputs": [
        {
          "output_type": "stream",
          "name": "stdout",
          "text": [
            "Selected 4 relevant features for API gateway monitoring\n"
          ]
        }
      ]
    },
    {
      "cell_type": "code",
      "source": [
        "df['protocol_type'].unique()"
      ],
      "metadata": {
        "colab": {
          "base_uri": "https://localhost:8080/"
        },
        "id": "UdGNA4ewKpGo",
        "outputId": "100d7765-00f6-4f36-9daf-cc542e812d5b"
      },
      "execution_count": 62,
      "outputs": [
        {
          "output_type": "execute_result",
          "data": {
            "text/plain": [
              "array(['tcp', 'udp', 'icmp'], dtype=object)"
            ]
          },
          "metadata": {},
          "execution_count": 62
        }
      ]
    },
    {
      "cell_type": "code",
      "source": [
        "# prompt: protocol type preprocess string to  int\n",
        "\n",
        "\n"
      ],
      "metadata": {
        "id": "2-mHUXS2L8HI"
      },
      "execution_count": 63,
      "outputs": []
    },
    {
      "cell_type": "code",
      "source": [
        "def preprocess_data(df, features):\n",
        "    \"\"\"Preprocess the data for autoencoder training\"\"\"\n",
        "    if df.empty:\n",
        "        return None, None, None, None, None, None\n",
        "\n",
        "    # Select relevant features\n",
        "    X = df[features].copy()\n",
        "\n",
        "    # Separate numeric and categorical columns\n",
        "    numeric_cols = X.select_dtypes(include=[np.number]).columns\n",
        "    categorical_cols = X.select_dtypes(include=['object']).columns\n",
        "\n",
        "    # Handle missing values differently for numeric and categorical\n",
        "    for col in numeric_cols:\n",
        "        X[col] = X[col].fillna(X[col].median())\n",
        "\n",
        "    for col in categorical_cols:\n",
        "        X[col] = X[col].fillna(X[col].mode()[0] if not X[col].mode().empty else 'unknown')\n",
        "\n",
        "    # Encode categorical features\n",
        "    label_encoders = {}\n",
        "    for col in categorical_cols:\n",
        "        le = LabelEncoder()\n",
        "        X[col] = le.fit_transform(X[col].astype(str))\n",
        "        label_encoders[col] = le\n",
        "\n",
        "    # Create binary labels (normal vs anomaly)\n",
        "    y = (df['label'] != 'normal').astype(int)\n",
        "\n",
        "    # Split data\n",
        "    X_train, X_test, y_train, y_test = train_test_split(\n",
        "        X, y, test_size=0.2, random_state=42, stratify=y\n",
        "    )\n",
        "\n",
        "    # Scale features\n",
        "    scaler = StandardScaler()\n",
        "    X_train_scaled = scaler.fit_transform(X_train)\n",
        "    X_test_scaled = scaler.transform(X_test)\n",
        "\n",
        "    return X_train_scaled, X_test_scaled, y_train, y_test, scaler, label_encoders"
      ],
      "metadata": {
        "id": "0nm4fh-zKI7_"
      },
      "execution_count": 64,
      "outputs": []
    },
    {
      "cell_type": "code",
      "source": [
        "if not df.empty:\n",
        "    X_train, X_test, y_train, y_test, scaler, label_encoders = preprocess_data(df, relevant_features)\n",
        "    print(f\"Training data shape: {X_train.shape}\")\n",
        "    print(f\"Test data shape: {X_test.shape}\")\n",
        "    print(f\"Normal samples in training: {sum(y_train == 0)}\")\n",
        "    print(f\"Anomaly samples in training: {sum(y_train == 1)}\")\n",
        "else:\n",
        "    # Create dummy data for demonstration\n",
        "    n_features = len(relevant_features)\n",
        "    X_train = np.random.normal(0, 1, (1000, n_features))\n",
        "    X_test = np.random.normal(0, 1, (200, n_features))\n",
        "    y_train = np.random.choice([0, 1], 1000, p=[0.8, 0.2])\n",
        "    y_test = np.random.choice([0, 1], 200, p=[0.8, 0.2])\n",
        "    scaler = StandardScaler().fit(X_train)\n",
        "    label_encoders = {}"
      ],
      "metadata": {
        "colab": {
          "base_uri": "https://localhost:8080/"
        },
        "id": "aplytr2BKO8C",
        "outputId": "0d9f84db-1c1a-49ef-db37-03f51d28309a"
      },
      "execution_count": 65,
      "outputs": [
        {
          "output_type": "stream",
          "name": "stdout",
          "text": [
            "Training data shape: (395216, 4)\n",
            "Test data shape: (98804, 4)\n",
            "Normal samples in training: 77822\n",
            "Anomaly samples in training: 317394\n"
          ]
        }
      ]
    },
    {
      "cell_type": "code",
      "source": [
        "# Define Autoencoder Model\n",
        "def create_autoencoder(input_dim, encoding_dim=2, hidden_dim=4):\n",
        "    \"\"\"Create autoencoder model optimized for API gateway deployment\"\"\"\n",
        "\n",
        "    # Input layer\n",
        "    input_layer = keras.Input(shape=(input_dim,))\n",
        "\n",
        "    # Encoder\n",
        "    encoded = layers.Dense(hidden_dim, activation='relu')(input_layer)\n",
        "    encoded = layers.Dropout(0.2)(encoded)\n",
        "    encoded = layers.Dense(encoding_dim, activation='relu')(encoded)\n",
        "\n",
        "    # Decoder\n",
        "    decoded = layers.Dense(hidden_dim, activation='relu')(encoded)\n",
        "    decoded = layers.Dropout(0.2)(decoded)\n",
        "    decoded = layers.Dense(input_dim, activation='linear')(decoded)\n",
        "\n",
        "    # Create model\n",
        "    autoencoder = keras.Model(input_layer, decoded)\n",
        "    encoder = keras.Model(input_layer, encoded)\n",
        "\n",
        "    return autoencoder, encoder\n"
      ],
      "metadata": {
        "id": "EmQGycFzQofo"
      },
      "execution_count": 66,
      "outputs": []
    },
    {
      "cell_type": "code",
      "source": [
        "# Create and compile model\n",
        "input_dim = len(relevant_features)\n",
        "autoencoder, encoder = create_autoencoder(input_dim)\n",
        "\n",
        "autoencoder.compile(\n",
        "    optimizer='adam',\n",
        "    loss='mse',\n",
        "    metrics=['mae']\n",
        ")\n",
        "\n",
        "print(\"Autoencoder Model Architecture:\")\n",
        "autoencoder.summary()"
      ],
      "metadata": {
        "colab": {
          "base_uri": "https://localhost:8080/",
          "height": 370
        },
        "id": "3BAkXjrcVFZx",
        "outputId": "f5acefae-3913-44ac-e6b8-e030aa81899c"
      },
      "execution_count": 67,
      "outputs": [
        {
          "output_type": "stream",
          "name": "stdout",
          "text": [
            "Autoencoder Model Architecture:\n"
          ]
        },
        {
          "output_type": "display_data",
          "data": {
            "text/plain": [
              "\u001b[1mModel: \"functional_4\"\u001b[0m\n"
            ],
            "text/html": [
              "<pre style=\"white-space:pre;overflow-x:auto;line-height:normal;font-family:Menlo,'DejaVu Sans Mono',consolas,'Courier New',monospace\"><span style=\"font-weight: bold\">Model: \"functional_4\"</span>\n",
              "</pre>\n"
            ]
          },
          "metadata": {}
        },
        {
          "output_type": "display_data",
          "data": {
            "text/plain": [
              "┏━━━━━━━━━━━━━━━━━━━━━━━━━━━━━━━━━┳━━━━━━━━━━━━━━━━━━━━━━━━┳━━━━━━━━━━━━━━━┓\n",
              "┃\u001b[1m \u001b[0m\u001b[1mLayer (type)                   \u001b[0m\u001b[1m \u001b[0m┃\u001b[1m \u001b[0m\u001b[1mOutput Shape          \u001b[0m\u001b[1m \u001b[0m┃\u001b[1m \u001b[0m\u001b[1m      Param #\u001b[0m\u001b[1m \u001b[0m┃\n",
              "┡━━━━━━━━━━━━━━━━━━━━━━━━━━━━━━━━━╇━━━━━━━━━━━━━━━━━━━━━━━━╇━━━━━━━━━━━━━━━┩\n",
              "│ input_layer_2 (\u001b[38;5;33mInputLayer\u001b[0m)      │ (\u001b[38;5;45mNone\u001b[0m, \u001b[38;5;34m4\u001b[0m)              │             \u001b[38;5;34m0\u001b[0m │\n",
              "├─────────────────────────────────┼────────────────────────┼───────────────┤\n",
              "│ dense_8 (\u001b[38;5;33mDense\u001b[0m)                 │ (\u001b[38;5;45mNone\u001b[0m, \u001b[38;5;34m4\u001b[0m)              │            \u001b[38;5;34m20\u001b[0m │\n",
              "├─────────────────────────────────┼────────────────────────┼───────────────┤\n",
              "│ dropout_4 (\u001b[38;5;33mDropout\u001b[0m)             │ (\u001b[38;5;45mNone\u001b[0m, \u001b[38;5;34m4\u001b[0m)              │             \u001b[38;5;34m0\u001b[0m │\n",
              "├─────────────────────────────────┼────────────────────────┼───────────────┤\n",
              "│ dense_9 (\u001b[38;5;33mDense\u001b[0m)                 │ (\u001b[38;5;45mNone\u001b[0m, \u001b[38;5;34m2\u001b[0m)              │            \u001b[38;5;34m10\u001b[0m │\n",
              "├─────────────────────────────────┼────────────────────────┼───────────────┤\n",
              "│ dense_10 (\u001b[38;5;33mDense\u001b[0m)                │ (\u001b[38;5;45mNone\u001b[0m, \u001b[38;5;34m4\u001b[0m)              │            \u001b[38;5;34m12\u001b[0m │\n",
              "├─────────────────────────────────┼────────────────────────┼───────────────┤\n",
              "│ dropout_5 (\u001b[38;5;33mDropout\u001b[0m)             │ (\u001b[38;5;45mNone\u001b[0m, \u001b[38;5;34m4\u001b[0m)              │             \u001b[38;5;34m0\u001b[0m │\n",
              "├─────────────────────────────────┼────────────────────────┼───────────────┤\n",
              "│ dense_11 (\u001b[38;5;33mDense\u001b[0m)                │ (\u001b[38;5;45mNone\u001b[0m, \u001b[38;5;34m4\u001b[0m)              │            \u001b[38;5;34m20\u001b[0m │\n",
              "└─────────────────────────────────┴────────────────────────┴───────────────┘\n"
            ],
            "text/html": [
              "<pre style=\"white-space:pre;overflow-x:auto;line-height:normal;font-family:Menlo,'DejaVu Sans Mono',consolas,'Courier New',monospace\">┏━━━━━━━━━━━━━━━━━━━━━━━━━━━━━━━━━┳━━━━━━━━━━━━━━━━━━━━━━━━┳━━━━━━━━━━━━━━━┓\n",
              "┃<span style=\"font-weight: bold\"> Layer (type)                    </span>┃<span style=\"font-weight: bold\"> Output Shape           </span>┃<span style=\"font-weight: bold\">       Param # </span>┃\n",
              "┡━━━━━━━━━━━━━━━━━━━━━━━━━━━━━━━━━╇━━━━━━━━━━━━━━━━━━━━━━━━╇━━━━━━━━━━━━━━━┩\n",
              "│ input_layer_2 (<span style=\"color: #0087ff; text-decoration-color: #0087ff\">InputLayer</span>)      │ (<span style=\"color: #00d7ff; text-decoration-color: #00d7ff\">None</span>, <span style=\"color: #00af00; text-decoration-color: #00af00\">4</span>)              │             <span style=\"color: #00af00; text-decoration-color: #00af00\">0</span> │\n",
              "├─────────────────────────────────┼────────────────────────┼───────────────┤\n",
              "│ dense_8 (<span style=\"color: #0087ff; text-decoration-color: #0087ff\">Dense</span>)                 │ (<span style=\"color: #00d7ff; text-decoration-color: #00d7ff\">None</span>, <span style=\"color: #00af00; text-decoration-color: #00af00\">4</span>)              │            <span style=\"color: #00af00; text-decoration-color: #00af00\">20</span> │\n",
              "├─────────────────────────────────┼────────────────────────┼───────────────┤\n",
              "│ dropout_4 (<span style=\"color: #0087ff; text-decoration-color: #0087ff\">Dropout</span>)             │ (<span style=\"color: #00d7ff; text-decoration-color: #00d7ff\">None</span>, <span style=\"color: #00af00; text-decoration-color: #00af00\">4</span>)              │             <span style=\"color: #00af00; text-decoration-color: #00af00\">0</span> │\n",
              "├─────────────────────────────────┼────────────────────────┼───────────────┤\n",
              "│ dense_9 (<span style=\"color: #0087ff; text-decoration-color: #0087ff\">Dense</span>)                 │ (<span style=\"color: #00d7ff; text-decoration-color: #00d7ff\">None</span>, <span style=\"color: #00af00; text-decoration-color: #00af00\">2</span>)              │            <span style=\"color: #00af00; text-decoration-color: #00af00\">10</span> │\n",
              "├─────────────────────────────────┼────────────────────────┼───────────────┤\n",
              "│ dense_10 (<span style=\"color: #0087ff; text-decoration-color: #0087ff\">Dense</span>)                │ (<span style=\"color: #00d7ff; text-decoration-color: #00d7ff\">None</span>, <span style=\"color: #00af00; text-decoration-color: #00af00\">4</span>)              │            <span style=\"color: #00af00; text-decoration-color: #00af00\">12</span> │\n",
              "├─────────────────────────────────┼────────────────────────┼───────────────┤\n",
              "│ dropout_5 (<span style=\"color: #0087ff; text-decoration-color: #0087ff\">Dropout</span>)             │ (<span style=\"color: #00d7ff; text-decoration-color: #00d7ff\">None</span>, <span style=\"color: #00af00; text-decoration-color: #00af00\">4</span>)              │             <span style=\"color: #00af00; text-decoration-color: #00af00\">0</span> │\n",
              "├─────────────────────────────────┼────────────────────────┼───────────────┤\n",
              "│ dense_11 (<span style=\"color: #0087ff; text-decoration-color: #0087ff\">Dense</span>)                │ (<span style=\"color: #00d7ff; text-decoration-color: #00d7ff\">None</span>, <span style=\"color: #00af00; text-decoration-color: #00af00\">4</span>)              │            <span style=\"color: #00af00; text-decoration-color: #00af00\">20</span> │\n",
              "└─────────────────────────────────┴────────────────────────┴───────────────┘\n",
              "</pre>\n"
            ]
          },
          "metadata": {}
        },
        {
          "output_type": "display_data",
          "data": {
            "text/plain": [
              "\u001b[1m Total params: \u001b[0m\u001b[38;5;34m62\u001b[0m (248.00 B)\n"
            ],
            "text/html": [
              "<pre style=\"white-space:pre;overflow-x:auto;line-height:normal;font-family:Menlo,'DejaVu Sans Mono',consolas,'Courier New',monospace\"><span style=\"font-weight: bold\"> Total params: </span><span style=\"color: #00af00; text-decoration-color: #00af00\">62</span> (248.00 B)\n",
              "</pre>\n"
            ]
          },
          "metadata": {}
        },
        {
          "output_type": "display_data",
          "data": {
            "text/plain": [
              "\u001b[1m Trainable params: \u001b[0m\u001b[38;5;34m62\u001b[0m (248.00 B)\n"
            ],
            "text/html": [
              "<pre style=\"white-space:pre;overflow-x:auto;line-height:normal;font-family:Menlo,'DejaVu Sans Mono',consolas,'Courier New',monospace\"><span style=\"font-weight: bold\"> Trainable params: </span><span style=\"color: #00af00; text-decoration-color: #00af00\">62</span> (248.00 B)\n",
              "</pre>\n"
            ]
          },
          "metadata": {}
        },
        {
          "output_type": "display_data",
          "data": {
            "text/plain": [
              "\u001b[1m Non-trainable params: \u001b[0m\u001b[38;5;34m0\u001b[0m (0.00 B)\n"
            ],
            "text/html": [
              "<pre style=\"white-space:pre;overflow-x:auto;line-height:normal;font-family:Menlo,'DejaVu Sans Mono',consolas,'Courier New',monospace\"><span style=\"font-weight: bold\"> Non-trainable params: </span><span style=\"color: #00af00; text-decoration-color: #00af00\">0</span> (0.00 B)\n",
              "</pre>\n"
            ]
          },
          "metadata": {}
        }
      ]
    },
    {
      "cell_type": "code",
      "source": [
        "# Training configuration\n",
        "EPOCHS = 50\n",
        "BATCH_SIZE = 32"
      ],
      "metadata": {
        "id": "WJjn-tCkVXTQ"
      },
      "execution_count": 68,
      "outputs": []
    },
    {
      "cell_type": "code",
      "source": [
        "# Train only on normal data for anomaly detection\n",
        "if not df.empty:\n",
        "    # Filter normal samples for training\n",
        "    normal_mask = y_train == 0\n",
        "    X_train_normal = X_train[normal_mask]\n",
        "\n",
        "    print(f\"Training on {len(X_train_normal)} normal samples...\")\n",
        "\n",
        "    # Train the autoencoder\n",
        "    history = autoencoder.fit(\n",
        "        X_train_normal, X_train_normal,\n",
        "        epochs=EPOCHS,\n",
        "        batch_size=BATCH_SIZE,\n",
        "        validation_split=0.1,\n",
        "        shuffle=True,\n",
        "        verbose=1\n",
        "    )\n",
        "\n",
        "    # Plot training history\n",
        "    plt.figure(figsize=(12, 4))\n",
        "    plt.subplot(1, 2, 1)\n",
        "    plt.plot(history.history['loss'], label='Training Loss')\n",
        "    plt.plot(history.history['val_loss'], label='Validation Loss')\n",
        "    plt.title('Model Loss')\n",
        "    plt.xlabel('Epoch')\n",
        "    plt.ylabel('Loss')\n",
        "    plt.legend()\n",
        "\n",
        "    plt.subplot(1, 2, 2)\n",
        "    plt.plot(history.history['mae'], label='Training MAE')\n",
        "    plt.plot(history.history['val_mae'], label='Validation MAE')\n",
        "    plt.title('Model MAE')\n",
        "    plt.xlabel('Epoch')\n",
        "    plt.ylabel('MAE')\n",
        "    plt.legend()\n",
        "    plt.tight_layout()\n",
        "    plt.show()\n"
      ],
      "metadata": {
        "colab": {
          "base_uri": "https://localhost:8080/",
          "height": 1000
        },
        "id": "a6nBuTi0VbJ7",
        "outputId": "d0a58c0a-348d-4737-b09e-bd5d683325f9"
      },
      "execution_count": 69,
      "outputs": [
        {
          "output_type": "stream",
          "name": "stdout",
          "text": [
            "Training on 77822 normal samples...\n",
            "Epoch 1/50\n",
            "\u001b[1m2189/2189\u001b[0m \u001b[32m━━━━━━━━━━━━━━━━━━━━\u001b[0m\u001b[37m\u001b[0m \u001b[1m11s\u001b[0m 4ms/step - loss: 1.2050 - mae: 0.3152 - val_loss: 0.2927 - val_mae: 0.1531\n",
            "Epoch 2/50\n",
            "\u001b[1m2189/2189\u001b[0m \u001b[32m━━━━━━━━━━━━━━━━━━━━\u001b[0m\u001b[37m\u001b[0m \u001b[1m7s\u001b[0m 3ms/step - loss: 0.5464 - mae: 0.1606 - val_loss: 0.2246 - val_mae: 0.1326\n",
            "Epoch 3/50\n",
            "\u001b[1m2189/2189\u001b[0m \u001b[32m━━━━━━━━━━━━━━━━━━━━\u001b[0m\u001b[37m\u001b[0m \u001b[1m6s\u001b[0m 3ms/step - loss: 0.4728 - mae: 0.1508 - val_loss: 0.1987 - val_mae: 0.1343\n",
            "Epoch 4/50\n",
            "\u001b[1m2189/2189\u001b[0m \u001b[32m━━━━━━━━━━━━━━━━━━━━\u001b[0m\u001b[37m\u001b[0m \u001b[1m11s\u001b[0m 3ms/step - loss: 0.4567 - mae: 0.1685 - val_loss: 0.2442 - val_mae: 0.1738\n",
            "Epoch 5/50\n",
            "\u001b[1m2189/2189\u001b[0m \u001b[32m━━━━━━━━━━━━━━━━━━━━\u001b[0m\u001b[37m\u001b[0m \u001b[1m11s\u001b[0m 3ms/step - loss: 0.4191 - mae: 0.1922 - val_loss: 0.2564 - val_mae: 0.1860\n",
            "Epoch 6/50\n",
            "\u001b[1m2189/2189\u001b[0m \u001b[32m━━━━━━━━━━━━━━━━━━━━\u001b[0m\u001b[37m\u001b[0m \u001b[1m7s\u001b[0m 3ms/step - loss: 0.3753 - mae: 0.1957 - val_loss: 0.2663 - val_mae: 0.1859\n",
            "Epoch 7/50\n",
            "\u001b[1m2189/2189\u001b[0m \u001b[32m━━━━━━━━━━━━━━━━━━━━\u001b[0m\u001b[37m\u001b[0m \u001b[1m10s\u001b[0m 3ms/step - loss: 0.4169 - mae: 0.1971 - val_loss: 0.2719 - val_mae: 0.1865\n",
            "Epoch 8/50\n",
            "\u001b[1m2189/2189\u001b[0m \u001b[32m━━━━━━━━━━━━━━━━━━━━\u001b[0m\u001b[37m\u001b[0m \u001b[1m11s\u001b[0m 3ms/step - loss: 0.4598 - mae: 0.1978 - val_loss: 0.2508 - val_mae: 0.1826\n",
            "Epoch 9/50\n",
            "\u001b[1m2189/2189\u001b[0m \u001b[32m━━━━━━━━━━━━━━━━━━━━\u001b[0m\u001b[37m\u001b[0m \u001b[1m10s\u001b[0m 3ms/step - loss: 0.4103 - mae: 0.1961 - val_loss: 0.2871 - val_mae: 0.1877\n",
            "Epoch 10/50\n",
            "\u001b[1m2189/2189\u001b[0m \u001b[32m━━━━━━━━━━━━━━━━━━━━\u001b[0m\u001b[37m\u001b[0m \u001b[1m9s\u001b[0m 3ms/step - loss: 0.4039 - mae: 0.1947 - val_loss: 0.2526 - val_mae: 0.1840\n",
            "Epoch 11/50\n",
            "\u001b[1m2189/2189\u001b[0m \u001b[32m━━━━━━━━━━━━━━━━━━━━\u001b[0m\u001b[37m\u001b[0m \u001b[1m10s\u001b[0m 3ms/step - loss: 0.3787 - mae: 0.1953 - val_loss: 0.2711 - val_mae: 0.1871\n",
            "Epoch 12/50\n",
            "\u001b[1m2189/2189\u001b[0m \u001b[32m━━━━━━━━━━━━━━━━━━━━\u001b[0m\u001b[37m\u001b[0m \u001b[1m7s\u001b[0m 3ms/step - loss: 0.4217 - mae: 0.1978 - val_loss: 0.2703 - val_mae: 0.1872\n",
            "Epoch 13/50\n",
            "\u001b[1m2189/2189\u001b[0m \u001b[32m━━━━━━━━━━━━━━━━━━━━\u001b[0m\u001b[37m\u001b[0m \u001b[1m6s\u001b[0m 3ms/step - loss: 0.3903 - mae: 0.1953 - val_loss: 0.2595 - val_mae: 0.1842\n",
            "Epoch 14/50\n",
            "\u001b[1m2189/2189\u001b[0m \u001b[32m━━━━━━━━━━━━━━━━━━━━\u001b[0m\u001b[37m\u001b[0m \u001b[1m11s\u001b[0m 3ms/step - loss: 0.4364 - mae: 0.1965 - val_loss: 0.2712 - val_mae: 0.1868\n",
            "Epoch 15/50\n",
            "\u001b[1m2189/2189\u001b[0m \u001b[32m━━━━━━━━━━━━━━━━━━━━\u001b[0m\u001b[37m\u001b[0m \u001b[1m6s\u001b[0m 3ms/step - loss: 0.4108 - mae: 0.1967 - val_loss: 0.2663 - val_mae: 0.1875\n",
            "Epoch 16/50\n",
            "\u001b[1m2189/2189\u001b[0m \u001b[32m━━━━━━━━━━━━━━━━━━━━\u001b[0m\u001b[37m\u001b[0m \u001b[1m9s\u001b[0m 3ms/step - loss: 0.3901 - mae: 0.1950 - val_loss: 0.2616 - val_mae: 0.1853\n",
            "Epoch 17/50\n",
            "\u001b[1m2189/2189\u001b[0m \u001b[32m━━━━━━━━━━━━━━━━━━━━\u001b[0m\u001b[37m\u001b[0m \u001b[1m7s\u001b[0m 3ms/step - loss: 0.3927 - mae: 0.1950 - val_loss: 0.2625 - val_mae: 0.1849\n",
            "Epoch 18/50\n",
            "\u001b[1m2189/2189\u001b[0m \u001b[32m━━━━━━━━━━━━━━━━━━━━\u001b[0m\u001b[37m\u001b[0m \u001b[1m6s\u001b[0m 3ms/step - loss: 0.3856 - mae: 0.1932 - val_loss: 0.2496 - val_mae: 0.1825\n",
            "Epoch 19/50\n",
            "\u001b[1m2189/2189\u001b[0m \u001b[32m━━━━━━━━━━━━━━━━━━━━\u001b[0m\u001b[37m\u001b[0m \u001b[1m7s\u001b[0m 3ms/step - loss: 0.4390 - mae: 0.1931 - val_loss: 0.2278 - val_mae: 0.1798\n",
            "Epoch 20/50\n",
            "\u001b[1m2189/2189\u001b[0m \u001b[32m━━━━━━━━━━━━━━━━━━━━\u001b[0m\u001b[37m\u001b[0m \u001b[1m6s\u001b[0m 3ms/step - loss: 0.3998 - mae: 0.1939 - val_loss: 0.2568 - val_mae: 0.1849\n",
            "Epoch 21/50\n",
            "\u001b[1m2189/2189\u001b[0m \u001b[32m━━━━━━━━━━━━━━━━━━━━\u001b[0m\u001b[37m\u001b[0m \u001b[1m10s\u001b[0m 3ms/step - loss: 0.4297 - mae: 0.1959 - val_loss: 0.2300 - val_mae: 0.1822\n",
            "Epoch 22/50\n",
            "\u001b[1m2189/2189\u001b[0m \u001b[32m━━━━━━━━━━━━━━━━━━━━\u001b[0m\u001b[37m\u001b[0m \u001b[1m11s\u001b[0m 3ms/step - loss: 0.3762 - mae: 0.1943 - val_loss: 0.2262 - val_mae: 0.1808\n",
            "Epoch 23/50\n",
            "\u001b[1m2189/2189\u001b[0m \u001b[32m━━━━━━━━━━━━━━━━━━━━\u001b[0m\u001b[37m\u001b[0m \u001b[1m6s\u001b[0m 3ms/step - loss: 0.3779 - mae: 0.1933 - val_loss: 0.2455 - val_mae: 0.1838\n",
            "Epoch 24/50\n",
            "\u001b[1m2189/2189\u001b[0m \u001b[32m━━━━━━━━━━━━━━━━━━━━\u001b[0m\u001b[37m\u001b[0m \u001b[1m10s\u001b[0m 3ms/step - loss: 0.4155 - mae: 0.1948 - val_loss: 0.2574 - val_mae: 0.1866\n",
            "Epoch 25/50\n",
            "\u001b[1m2189/2189\u001b[0m \u001b[32m━━━━━━━━━━━━━━━━━━━━\u001b[0m\u001b[37m\u001b[0m \u001b[1m11s\u001b[0m 3ms/step - loss: 0.3946 - mae: 0.1951 - val_loss: 0.2553 - val_mae: 0.1874\n",
            "Epoch 26/50\n",
            "\u001b[1m2189/2189\u001b[0m \u001b[32m━━━━━━━━━━━━━━━━━━━━\u001b[0m\u001b[37m\u001b[0m \u001b[1m6s\u001b[0m 3ms/step - loss: 0.4005 - mae: 0.1978 - val_loss: 0.2347 - val_mae: 0.1829\n",
            "Epoch 27/50\n",
            "\u001b[1m2189/2189\u001b[0m \u001b[32m━━━━━━━━━━━━━━━━━━━━\u001b[0m\u001b[37m\u001b[0m \u001b[1m10s\u001b[0m 3ms/step - loss: 0.3661 - mae: 0.1950 - val_loss: 0.2486 - val_mae: 0.1858\n",
            "Epoch 28/50\n",
            "\u001b[1m2189/2189\u001b[0m \u001b[32m━━━━━━━━━━━━━━━━━━━━\u001b[0m\u001b[37m\u001b[0m \u001b[1m7s\u001b[0m 3ms/step - loss: 0.4118 - mae: 0.1946 - val_loss: 0.2384 - val_mae: 0.1835\n",
            "Epoch 29/50\n",
            "\u001b[1m2189/2189\u001b[0m \u001b[32m━━━━━━━━━━━━━━━━━━━━\u001b[0m\u001b[37m\u001b[0m \u001b[1m10s\u001b[0m 3ms/step - loss: 0.3836 - mae: 0.1932 - val_loss: 0.2395 - val_mae: 0.1820\n",
            "Epoch 30/50\n",
            "\u001b[1m2189/2189\u001b[0m \u001b[32m━━━━━━━━━━━━━━━━━━━━\u001b[0m\u001b[37m\u001b[0m \u001b[1m9s\u001b[0m 3ms/step - loss: 0.3923 - mae: 0.1954 - val_loss: 0.2492 - val_mae: 0.1848\n",
            "Epoch 31/50\n",
            "\u001b[1m2189/2189\u001b[0m \u001b[32m━━━━━━━━━━━━━━━━━━━━\u001b[0m\u001b[37m\u001b[0m \u001b[1m10s\u001b[0m 3ms/step - loss: 0.3984 - mae: 0.1936 - val_loss: 0.2435 - val_mae: 0.1817\n",
            "Epoch 32/50\n",
            "\u001b[1m2189/2189\u001b[0m \u001b[32m━━━━━━━━━━━━━━━━━━━━\u001b[0m\u001b[37m\u001b[0m \u001b[1m11s\u001b[0m 3ms/step - loss: 0.3876 - mae: 0.1926 - val_loss: 0.2435 - val_mae: 0.1819\n",
            "Epoch 33/50\n",
            "\u001b[1m2189/2189\u001b[0m \u001b[32m━━━━━━━━━━━━━━━━━━━━\u001b[0m\u001b[37m\u001b[0m \u001b[1m11s\u001b[0m 3ms/step - loss: 0.4119 - mae: 0.1931 - val_loss: 0.2412 - val_mae: 0.1855\n",
            "Epoch 34/50\n",
            "\u001b[1m2189/2189\u001b[0m \u001b[32m━━━━━━━━━━━━━━━━━━━━\u001b[0m\u001b[37m\u001b[0m \u001b[1m10s\u001b[0m 3ms/step - loss: 0.3885 - mae: 0.1920 - val_loss: 0.2418 - val_mae: 0.1835\n",
            "Epoch 35/50\n",
            "\u001b[1m2189/2189\u001b[0m \u001b[32m━━━━━━━━━━━━━━━━━━━━\u001b[0m\u001b[37m\u001b[0m \u001b[1m6s\u001b[0m 3ms/step - loss: 0.4075 - mae: 0.1926 - val_loss: 0.2479 - val_mae: 0.1850\n",
            "Epoch 36/50\n",
            "\u001b[1m2189/2189\u001b[0m \u001b[32m━━━━━━━━━━━━━━━━━━━━\u001b[0m\u001b[37m\u001b[0m \u001b[1m7s\u001b[0m 3ms/step - loss: 0.3940 - mae: 0.1917 - val_loss: 0.2434 - val_mae: 0.1823\n",
            "Epoch 37/50\n",
            "\u001b[1m2189/2189\u001b[0m \u001b[32m━━━━━━━━━━━━━━━━━━━━\u001b[0m\u001b[37m\u001b[0m \u001b[1m6s\u001b[0m 3ms/step - loss: 0.3826 - mae: 0.1914 - val_loss: 0.2415 - val_mae: 0.1821\n",
            "Epoch 38/50\n",
            "\u001b[1m2189/2189\u001b[0m \u001b[32m━━━━━━━━━━━━━━━━━━━━\u001b[0m\u001b[37m\u001b[0m \u001b[1m7s\u001b[0m 3ms/step - loss: 0.3904 - mae: 0.1928 - val_loss: 0.2472 - val_mae: 0.1844\n",
            "Epoch 39/50\n",
            "\u001b[1m2189/2189\u001b[0m \u001b[32m━━━━━━━━━━━━━━━━━━━━\u001b[0m\u001b[37m\u001b[0m \u001b[1m6s\u001b[0m 3ms/step - loss: 0.4124 - mae: 0.1934 - val_loss: 0.2425 - val_mae: 0.1839\n",
            "Epoch 40/50\n",
            "\u001b[1m2189/2189\u001b[0m \u001b[32m━━━━━━━━━━━━━━━━━━━━\u001b[0m\u001b[37m\u001b[0m \u001b[1m7s\u001b[0m 3ms/step - loss: 0.3783 - mae: 0.1916 - val_loss: 0.2439 - val_mae: 0.1821\n",
            "Epoch 41/50\n",
            "\u001b[1m2189/2189\u001b[0m \u001b[32m━━━━━━━━━━━━━━━━━━━━\u001b[0m\u001b[37m\u001b[0m \u001b[1m10s\u001b[0m 3ms/step - loss: 0.3962 - mae: 0.1901 - val_loss: 0.2536 - val_mae: 0.1798\n",
            "Epoch 42/50\n",
            "\u001b[1m2189/2189\u001b[0m \u001b[32m━━━━━━━━━━━━━━━━━━━━\u001b[0m\u001b[37m\u001b[0m \u001b[1m7s\u001b[0m 3ms/step - loss: 0.3880 - mae: 0.1886 - val_loss: 0.2541 - val_mae: 0.1810\n",
            "Epoch 43/50\n",
            "\u001b[1m2189/2189\u001b[0m \u001b[32m━━━━━━━━━━━━━━━━━━━━\u001b[0m\u001b[37m\u001b[0m \u001b[1m6s\u001b[0m 3ms/step - loss: 0.3669 - mae: 0.1848 - val_loss: 0.2536 - val_mae: 0.1788\n",
            "Epoch 44/50\n",
            "\u001b[1m2189/2189\u001b[0m \u001b[32m━━━━━━━━━━━━━━━━━━━━\u001b[0m\u001b[37m\u001b[0m \u001b[1m11s\u001b[0m 3ms/step - loss: 0.4064 - mae: 0.1868 - val_loss: 0.2547 - val_mae: 0.1806\n",
            "Epoch 45/50\n",
            "\u001b[1m2189/2189\u001b[0m \u001b[32m━━━━━━━━━━━━━━━━━━━━\u001b[0m\u001b[37m\u001b[0m \u001b[1m7s\u001b[0m 3ms/step - loss: 0.4207 - mae: 0.1880 - val_loss: 0.2490 - val_mae: 0.1795\n",
            "Epoch 46/50\n",
            "\u001b[1m2189/2189\u001b[0m \u001b[32m━━━━━━━━━━━━━━━━━━━━\u001b[0m\u001b[37m\u001b[0m \u001b[1m6s\u001b[0m 3ms/step - loss: 0.4149 - mae: 0.1866 - val_loss: 0.2488 - val_mae: 0.1791\n",
            "Epoch 47/50\n",
            "\u001b[1m2189/2189\u001b[0m \u001b[32m━━━━━━━━━━━━━━━━━━━━\u001b[0m\u001b[37m\u001b[0m \u001b[1m7s\u001b[0m 3ms/step - loss: 0.3754 - mae: 0.1863 - val_loss: 0.2482 - val_mae: 0.1798\n",
            "Epoch 48/50\n",
            "\u001b[1m2189/2189\u001b[0m \u001b[32m━━━━━━━━━━━━━━━━━━━━\u001b[0m\u001b[37m\u001b[0m \u001b[1m10s\u001b[0m 3ms/step - loss: 0.4038 - mae: 0.1878 - val_loss: 0.2512 - val_mae: 0.1805\n",
            "Epoch 49/50\n",
            "\u001b[1m2189/2189\u001b[0m \u001b[32m━━━━━━━━━━━━━━━━━━━━\u001b[0m\u001b[37m\u001b[0m \u001b[1m10s\u001b[0m 3ms/step - loss: 0.4300 - mae: 0.1889 - val_loss: 0.2449 - val_mae: 0.1790\n",
            "Epoch 50/50\n",
            "\u001b[1m2189/2189\u001b[0m \u001b[32m━━━━━━━━━━━━━━━━━━━━\u001b[0m\u001b[37m\u001b[0m \u001b[1m10s\u001b[0m 3ms/step - loss: 0.3533 - mae: 0.1851 - val_loss: 0.2569 - val_mae: 0.1798\n"
          ]
        },
        {
          "output_type": "display_data",
          "data": {
            "text/plain": [
              "<Figure size 1200x400 with 2 Axes>"
            ],
            "image/png": "[encoded data removed]"
          },
          "metadata": {}
        }
      ]
    },
    {
      "cell_type": "code",
      "source": [
        "# Evaluation and threshold determination\n",
        "def calculate_reconstruction_error(model, X):\n",
        "    \"\"\"Calculate reconstruction error for anomaly detection\"\"\"\n",
        "    predictions = model.predict(X, verbose=0)\n",
        "    mse = np.mean(np.power(X - predictions, 2), axis=1)\n",
        "    return mse"
      ],
      "metadata": {
        "id": "oF5axhoSYe1u"
      },
      "execution_count": 70,
      "outputs": []
    },
    {
      "cell_type": "code",
      "source": [
        "if not df.empty:\n",
        "    # Calculate reconstruction errors\n",
        "    train_errors = calculate_reconstruction_error(autoencoder, X_train)\n",
        "    test_errors = calculate_reconstruction_error(autoencoder, X_test)\n",
        "\n",
        "    # Determine threshold (95th percentile of normal training samples)\n",
        "    normal_train_errors = train_errors[y_train == 0]\n",
        "    threshold = np.percentile(normal_train_errors, 30)\n",
        "    # threshold = 0.0185\n",
        "\n",
        "    print(f\"Anomaly detection threshold: {threshold:.6f}\")\n",
        "\n",
        "    # Make predictions\n",
        "    y_pred = (test_errors > threshold).astype(int)\n",
        "\n",
        "    # Evaluation metrics\n",
        "    print(\"\\nClassification Report:\")\n",
        "    print(classification_report(y_test, y_pred))\n",
        "\n",
        "    # Confusion Matrix\n",
        "    plt.figure(figsize=(8, 6))\n",
        "    cm = confusion_matrix(y_test, y_pred)\n",
        "    sns.heatmap(cm, annot=True, fmt='d', cmap='Blues')\n",
        "    plt.title('Confusion Matrix')\n",
        "    plt.ylabel('Actual')\n",
        "    plt.xlabel('Predicted')\n",
        "    plt.show()\n",
        "\n",
        "    # Plot reconstruction errors\n",
        "    plt.figure(figsize=(10, 6))\n",
        "    plt.hist(normal_train_errors, bins=50, alpha=0.7, label='Normal (Training)', density=True)\n",
        "    plt.hist(test_errors[y_test == 0], bins=50, alpha=0.7, label='Normal (Test)', density=True)\n",
        "    plt.hist(test_errors[y_test == 1], bins=50, alpha=0.7, label='Anomaly (Test)', density=True)\n",
        "    plt.axvline(threshold, color='red', linestyle='--', label=f'Threshold ({threshold:.4f})')\n",
        "    plt.xlabel('Reconstruction Error')\n",
        "    plt.ylabel('Density')\n",
        "    plt.title('Distribution of Reconstruction Errors')\n",
        "    plt.legend()\n",
        "    plt.show()\n"
      ],
      "metadata": {
        "colab": {
          "base_uri": "https://localhost:8080/",
          "height": 1000
        },
        "id": "7JYSQG7PYno8",
        "outputId": "008eeef1-e1c5-4506-e29f-f670b141e4c2"
      },
      "execution_count": 93,
      "outputs": [
        {
          "output_type": "stream",
          "name": "stdout",
          "text": [
            "Anomaly detection threshold: 0.018209\n",
            "\n",
            "Classification Report:\n",
            "              precision    recall  f1-score   support\n",
            "\n",
            "           0       1.00      0.10      0.19     19455\n",
            "           1       0.82      1.00      0.90     79349\n",
            "\n",
            "    accuracy                           0.82     98804\n",
            "   macro avg       0.91      0.55      0.54     98804\n",
            "weighted avg       0.86      0.82      0.76     98804\n",
            "\n"
          ]
        },
        {
          "output_type": "display_data",
          "data": {
            "text/plain": [
              "<Figure size 800x600 with 2 Axes>"
            ],
            "image/png": "[encoded data removed]"
          },
          "metadata": {}
        },
        {
          "output_type": "display_data",
          "data": {
            "text/plain": [
              "<Figure size 1000x600 with 1 Axes>"
            ],
            "image/png": "[encoded data removed]"
          },
          "metadata": {}
        }
      ]
    },
    {
      "cell_type": "code",
      "source": [
        "def save_model_artifacts():\n",
        "    \"\"\"Save model and preprocessing components for API deployment\"\"\"\n",
        "\n",
        "    # Save autoencoder model\n",
        "    autoencoder.save('api_gateway_autoencoder.h5')\n",
        "    print(\"Autoencoder model saved as 'api_gateway_autoencoder.h5'\")\n",
        "\n",
        "    # Save scaler\n",
        "    joblib.dump(scaler, 'feature_scaler.pkl')\n",
        "    print(\"Feature scaler saved as 'feature_scaler.pkl'\")\n",
        "\n",
        "    # Save label encoders\n",
        "    joblib.dump(label_encoders if not df.empty else {}, 'label_encoders.pkl')\n",
        "    print(\"Label encoders saved as 'label_encoders.pkl'\")\n",
        "\n",
        "    # Save threshold and feature names\n",
        "    model_config = {\n",
        "        'threshold': threshold if not df.empty else 0.1,\n",
        "        'feature_names': relevant_features,\n",
        "        'input_dim': len(relevant_features)\n",
        "    }\n",
        "\n",
        "    joblib.dump(model_config, 'model_config.pkl')\n",
        "    print(\"Model configuration saved as 'model_config.pkl'\")\n",
        "\n",
        "    return model_config"
      ],
      "metadata": {
        "id": "o7-7wuEWcGJe"
      },
      "execution_count": 94,
      "outputs": []
    },
    {
      "cell_type": "code",
      "source": [
        "# Save artifacts\n",
        "model_config = save_model_artifacts()"
      ],
      "metadata": {
        "colab": {
          "base_uri": "https://localhost:8080/"
        },
        "id": "udMQKmdKcI2-",
        "outputId": "ce25e4e9-17f2-4a41-80e8-6bfcf7341741"
      },
      "execution_count": 95,
      "outputs": [
        {
          "output_type": "stream",
          "name": "stderr",
          "text": [
            "WARNING:absl:You are saving your model as an HDF5 file via `model.save()` or `keras.saving.save_model(model)`. This file format is considered legacy. We recommend using instead the native Keras format, e.g. `model.save('my_model.keras')` or `keras.saving.save_model(model, 'my_model.keras')`. \n"
          ]
        },
        {
          "output_type": "stream",
          "name": "stdout",
          "text": [
            "Autoencoder model saved as 'api_gateway_autoencoder.h5'\n",
            "Feature scaler saved as 'feature_scaler.pkl'\n",
            "Label encoders saved as 'label_encoders.pkl'\n",
            "Model configuration saved as 'model_config.pkl'\n"
          ]
        }
      ]
    },
    {
      "cell_type": "code",
      "source": [
        "def predict_anomaly(features_dict, model, scaler, threshold, feature_names, label_encoders=None):\n",
        "    \"\"\"\n",
        "    Predict if a request is anomalous\n",
        "    \"\"\"\n",
        "    try:\n",
        "        # Extract features in correct order\n",
        "        features = []\n",
        "        for name in feature_names:\n",
        "            value = features_dict.get(name, 0.0)\n",
        "\n",
        "            # Handle categorical encoding\n",
        "            if label_encoders and name in label_encoders:\n",
        "                try:\n",
        "                    value = label_encoders[name].transform([str(value)])[0]\n",
        "                except:\n",
        "                    value = 0  # Unknown category\n",
        "\n",
        "            features.append(value)\n",
        "\n",
        "        features = np.array(features).reshape(1, -1)\n",
        "\n",
        "        # Scale features\n",
        "        features_scaled = scaler.transform(features)\n",
        "\n",
        "        # Calculate reconstruction error\n",
        "        reconstructed = model.predict(features_scaled, verbose=0)\n",
        "        error = np.mean(np.power(features_scaled - reconstructed, 2))\n",
        "\n",
        "        # Determine if anomaly\n",
        "        is_anomaly = error > threshold\n",
        "        confidence = min(error / threshold, 5.0)\n",
        "\n",
        "        return {\n",
        "            'is_anomaly': bool(is_anomaly),\n",
        "            'reconstruction_error': float(error),\n",
        "            'threshold': float(threshold),\n",
        "            'confidence_score': float(confidence),\n",
        "            'status': 'anomaly' if is_anomaly else 'normal'\n",
        "        }\n",
        "\n",
        "    except Exception as e:\n",
        "        return {\n",
        "            'error': str(e),\n",
        "            'status': 'error'\n",
        "        }"
      ],
      "metadata": {
        "id": "NoFA2K_gcYLT"
      },
      "execution_count": 96,
      "outputs": []
    },
    {
      "cell_type": "code",
      "source": [
        "# Normal traffic example\n",
        "normal_request = {\n",
        "    'duration': 0.5,\n",
        "    'src_bytes': 1024,\n",
        "    'dst_bytes': 2048,\n",
        "    'protocol_type': 1\n",
        "}\n",
        "\n",
        "# DoS attack example\n",
        "dos_attack = {\n",
        "    'duration': 0.001,\n",
        "    'src_bytes': 64,\n",
        "    'dst_bytes': 0,\n",
        "    'protocol_type': 1\n",
        "}\n",
        "\n",
        "# Port scan example\n",
        "port_scan = {\n",
        "    'duration': 0.01,\n",
        "    'src_bytes': 40,\n",
        "    'dst_bytes': 0,\n",
        "    'protocol_type': 1\n",
        "}\n",
        "\n",
        "# Data exfiltration example\n",
        "data_exfiltration = {\n",
        "    'duration': 300.0,\n",
        "    'src_bytes': 1024,\n",
        "    'dst_bytes': 1048576,\n",
        "    'protocol_type': 1\n",
        "}"
      ],
      "metadata": {
        "id": "mErnZB3jm0os"
      },
      "execution_count": 97,
      "outputs": []
    },
    {
      "cell_type": "code",
      "source": [
        "# Example usage\n",
        "print(\"\\n\" + \"=\"*60)\n",
        "print(\"MODEL DEPLOYMENT READY\")\n",
        "print(\"=\"*60)\n",
        "print(f\"Features used: {len(relevant_features)}\")\n",
        "print(f\"Model input dimension: {input_dim}\")\n",
        "if not df.empty:\n",
        "    print(f\"Anomaly threshold: {threshold:.6f}\")\n",
        "print(\"Files saved:\")\n",
        "print(\"- api_gateway_autoencoder.h5 (model)\")\n",
        "print(\"- feature_scaler.pkl (preprocessing)\")\n",
        "print(\"- model_config.pkl (configuration)\")\n",
        "\n",
        "\n",
        "if not df.empty:\n",
        "    result = predict_anomaly(normal_request, autoencoder, scaler, threshold, relevant_features)\n",
        "    print(f\"\\nSample prediction result: {result}\")\n",
        "    result = predict_anomaly(dos_attack, autoencoder, scaler, threshold, relevant_features)\n",
        "    print(f\"\\nSample prediction result: {result}\")\n",
        "    result = predict_anomaly(port_scan, autoencoder, scaler, threshold, relevant_features)\n",
        "    print(f\"\\nSample prediction result: {result}\")\n",
        "    result = predict_anomaly(data_exfiltration, autoencoder, scaler, threshold, relevant_features)\n",
        "    print(f\"\\nSample prediction result: {result}\")"
      ],
      "metadata": {
        "colab": {
          "base_uri": "https://localhost:8080/"
        },
        "id": "sVva6nlGcdUX",
        "outputId": "88ddeadc-dddd-4eb9-dfb4-9be846a34308"
      },
      "execution_count": 99,
      "outputs": [
        {
          "output_type": "stream",
          "name": "stdout",
          "text": [
            "\n",
            "============================================================\n",
            "MODEL DEPLOYMENT READY\n",
            "============================================================\n",
            "Features used: 4\n",
            "Model input dimension: 4\n",
            "Anomaly threshold: 0.018209\n",
            "Files saved:\n",
            "- api_gateway_autoencoder.h5 (model)\n",
            "- feature_scaler.pkl (preprocessing)\n",
            "- model_config.pkl (configuration)\n",
            "\n",
            "Sample prediction result: {'is_anomaly': False, 'reconstruction_error': 0.018161010472295177, 'threshold': 0.018209172275486532, 'confidence_score': 0.9973550800408324, 'status': 'normal'}\n"
          ]
        },
        {
          "output_type": "stream",
          "name": "stderr",
          "text": [
            "/usr/local/lib/python3.11/dist-packages/sklearn/utils/validation.py:2739: UserWarning: X does not have valid feature names, but StandardScaler was fitted with feature names\n",
            "  warnings.warn(\n",
            "/usr/local/lib/python3.11/dist-packages/sklearn/utils/validation.py:2739: UserWarning: X does not have valid feature names, but StandardScaler was fitted with feature names\n",
            "  warnings.warn(\n"
          ]
        },
        {
          "output_type": "stream",
          "name": "stdout",
          "text": [
            "\n",
            "Sample prediction result: {'is_anomaly': True, 'reconstruction_error': 0.018999151256593995, 'threshold': 0.018209172275486532, 'confidence_score': 1.0433835744511541, 'status': 'anomaly'}\n",
            "\n",
            "Sample prediction result: {'is_anomaly': True, 'reconstruction_error': 0.018999127481710537, 'threshold': 0.018209172275486532, 'confidence_score': 1.0433822687968883, 'status': 'anomaly'}\n"
          ]
        },
        {
          "output_type": "stream",
          "name": "stderr",
          "text": [
            "/usr/local/lib/python3.11/dist-packages/sklearn/utils/validation.py:2739: UserWarning: X does not have valid feature names, but StandardScaler was fitted with feature names\n",
            "  warnings.warn(\n",
            "/usr/local/lib/python3.11/dist-packages/sklearn/utils/validation.py:2739: UserWarning: X does not have valid feature names, but StandardScaler was fitted with feature names\n",
            "  warnings.warn(\n"
          ]
        },
        {
          "output_type": "stream",
          "name": "stdout",
          "text": [
            "\n",
            "Sample prediction result: {'is_anomaly': True, 'reconstruction_error': 52.8294998853332, 'threshold': 0.018209172275486532, 'confidence_score': 5.0, 'status': 'anomaly'}\n"
          ]
        }
      ]
    }
  ]
}